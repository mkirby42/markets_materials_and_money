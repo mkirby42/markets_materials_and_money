{
 "cells": [
  {
   "cell_type": "code",
   "execution_count": 1,
   "metadata": {},
   "outputs": [],
   "source": [
    "import requests\n",
    "from bs4 import BeautifulSoup\n",
    "import os\n",
    "\n",
    "def download_pdf(link, folder='downloaded_pdfs'):\n",
    "    \"\"\" Download PDF from a given link and save to a specified folder. \"\"\"\n",
    "    response = requests.get(link, stream=True)\n",
    "    filename = os.path.join(folder, link.split('/')[-1])\n",
    "    \n",
    "    # Create the folder if it doesn't exist\n",
    "    if not os.path.exists(folder):\n",
    "        os.makedirs(folder)\n",
    "    \n",
    "    # Save the file\n",
    "    if response.status_code == 200:\n",
    "        with open(filename, 'wb') as f:\n",
    "            f.write(response.content)\n",
    "        print(f\"Downloaded {filename}\")\n",
    "    else:\n",
    "        print(f\"Failed to download {filename}\")\n",
    "\n",
    "def scrape_pdfs(url):\n",
    "    \"\"\" Scrape a webpage for PDF links and download them. \"\"\"\n",
    "    try:\n",
    "        response = requests.get(url)\n",
    "        response.raise_for_status()  # Will raise an exception for 4XX/5XX errors\n",
    "        soup = BeautifulSoup(response.text, 'html.parser')\n",
    "        \n",
    "        # Find all <a> tags; assume the PDF links end with '.pdf'\n",
    "        links = [a['href'] for a in soup.find_all('a', href=True) if a['href'].endswith('.pdf')]\n",
    "        \n",
    "        # Download all found PDFs\n",
    "        for link in links:\n",
    "            download_pdf(link)\n",
    "    except requests.RequestException as e:\n",
    "        print(f\"An error occurred: {e}\")\n",
    "\n",
    "# Example URL - replace with the actual page where BLM hosts documents\n",
    "example_url = \"https://mlrs.blm.gov/s/\"\n",
    "\n",
    "scrape_pdfs(example_url)\n"
   ]
  },
  {
   "cell_type": "markdown",
   "metadata": {},
   "source": [
    "Get financial statements and public reports news articles\n",
    "scrape for key info and calculate sentiment\n",
    "\n",
    "Get fed data on rate changes and other goings on\n",
    "\n",
    "Get earnings reports\n",
    "\n",
    "Watch geopolitical events\n",
    "If company A has a mine in country B and company B has coup that could affect price"
   ]
  },
  {
   "cell_type": "code",
   "execution_count": null,
   "metadata": {},
   "outputs": [],
   "source": []
  }
 ],
 "metadata": {
  "kernelspec": {
   "display_name": ".venv",
   "language": "python",
   "name": "python3"
  },
  "language_info": {
   "codemirror_mode": {
    "name": "ipython",
    "version": 3
   },
   "file_extension": ".py",
   "mimetype": "text/x-python",
   "name": "python",
   "nbconvert_exporter": "python",
   "pygments_lexer": "ipython3",
   "version": "3.10.15"
  }
 },
 "nbformat": 4,
 "nbformat_minor": 2
}
